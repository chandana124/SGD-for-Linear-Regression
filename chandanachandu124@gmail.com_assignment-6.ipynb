{
 "cells": [
  {
   "cell_type": "code",
   "execution_count": 52,
   "metadata": {
    "colab": {},
    "colab_type": "code",
    "id": "REYPoTJ1Af7u"
   },
   "outputs": [],
   "source": [
    "import warnings\n",
    "warnings.filterwarnings(\"ignore\")\n",
    "from sklearn.datasets import load_boston\n",
    "from random import seed\n",
    "from random import randrange\n",
    "from csv import reader\n",
    "from math import sqrt\n",
    "from sklearn import preprocessing\n",
    "import pandas as pd\n",
    "import numpy as np\n",
    "import matplotlib.pyplot as plt\n",
    "from prettytable import PrettyTable\n",
    "from sklearn.linear_model import SGDRegressor\n",
    "from sklearn import preprocessing\n",
    "from sklearn.metrics import mean_squared_error"
   ]
  },
  {
   "cell_type": "code",
   "execution_count": 53,
   "metadata": {
    "colab": {},
    "colab_type": "code",
    "id": "NTQ2iH-kAwbo"
   },
   "outputs": [],
   "source": [
    "X = load_boston().data\n",
    "Y = load_boston().target"
   ]
  },
  {
   "cell_type": "code",
   "execution_count": 54,
   "metadata": {},
   "outputs": [],
   "source": [
    "scaler = preprocessing.StandardScaler().fit(X)\n",
    "X = scaler.transform(X)"
   ]
  },
  {
   "cell_type": "code",
   "execution_count": 55,
   "metadata": {},
   "outputs": [
    {
     "name": "stdout",
     "output_type": "stream",
     "text": [
      "23.00034360224337\n"
     ]
    }
   ],
   "source": [
    "clf = SGDRegressor()\n",
    "clf.fit(X, Y)\n",
    "print(mean_squared_error(Y, clf.predict(X)))"
   ]
  },
  {
   "cell_type": "code",
   "execution_count": 56,
   "metadata": {},
   "outputs": [
    {
     "data": {
      "text/html": [
       "<div>\n",
       "<style scoped>\n",
       "    .dataframe tbody tr th:only-of-type {\n",
       "        vertical-align: middle;\n",
       "    }\n",
       "\n",
       "    .dataframe tbody tr th {\n",
       "        vertical-align: top;\n",
       "    }\n",
       "\n",
       "    .dataframe thead th {\n",
       "        text-align: right;\n",
       "    }\n",
       "</style>\n",
       "<table border=\"1\" class=\"dataframe\">\n",
       "  <thead>\n",
       "    <tr style=\"text-align: right;\">\n",
       "      <th></th>\n",
       "      <th>0</th>\n",
       "      <th>1</th>\n",
       "      <th>2</th>\n",
       "      <th>3</th>\n",
       "      <th>4</th>\n",
       "      <th>5</th>\n",
       "      <th>6</th>\n",
       "      <th>7</th>\n",
       "      <th>8</th>\n",
       "      <th>9</th>\n",
       "      <th>10</th>\n",
       "      <th>11</th>\n",
       "      <th>12</th>\n",
       "      <th>13</th>\n",
       "    </tr>\n",
       "  </thead>\n",
       "  <tbody>\n",
       "    <tr>\n",
       "      <th>0</th>\n",
       "      <td>-0.417713</td>\n",
       "      <td>0.284830</td>\n",
       "      <td>-1.287909</td>\n",
       "      <td>-0.272599</td>\n",
       "      <td>-0.144217</td>\n",
       "      <td>0.413672</td>\n",
       "      <td>-0.120013</td>\n",
       "      <td>0.140214</td>\n",
       "      <td>-0.982843</td>\n",
       "      <td>-0.666608</td>\n",
       "      <td>-1.459000</td>\n",
       "      <td>0.441052</td>\n",
       "      <td>-1.075562</td>\n",
       "      <td>1.0</td>\n",
       "    </tr>\n",
       "    <tr>\n",
       "      <th>1</th>\n",
       "      <td>-0.415269</td>\n",
       "      <td>-0.487722</td>\n",
       "      <td>-0.593381</td>\n",
       "      <td>-0.272599</td>\n",
       "      <td>-0.740262</td>\n",
       "      <td>0.194274</td>\n",
       "      <td>0.367166</td>\n",
       "      <td>0.557160</td>\n",
       "      <td>-0.867883</td>\n",
       "      <td>-0.987329</td>\n",
       "      <td>-0.303094</td>\n",
       "      <td>0.441052</td>\n",
       "      <td>-0.492439</td>\n",
       "      <td>0.0</td>\n",
       "    </tr>\n",
       "    <tr>\n",
       "      <th>2</th>\n",
       "      <td>-0.415272</td>\n",
       "      <td>-0.487722</td>\n",
       "      <td>-0.593381</td>\n",
       "      <td>-0.272599</td>\n",
       "      <td>-0.740262</td>\n",
       "      <td>1.282714</td>\n",
       "      <td>-0.265812</td>\n",
       "      <td>0.557160</td>\n",
       "      <td>-0.867883</td>\n",
       "      <td>-0.987329</td>\n",
       "      <td>-0.303094</td>\n",
       "      <td>0.396427</td>\n",
       "      <td>-1.208727</td>\n",
       "      <td>0.0</td>\n",
       "    </tr>\n",
       "    <tr>\n",
       "      <th>3</th>\n",
       "      <td>-0.414680</td>\n",
       "      <td>-0.487722</td>\n",
       "      <td>-1.306878</td>\n",
       "      <td>-0.272599</td>\n",
       "      <td>-0.835284</td>\n",
       "      <td>1.016303</td>\n",
       "      <td>-0.809889</td>\n",
       "      <td>1.077737</td>\n",
       "      <td>-0.752922</td>\n",
       "      <td>-1.106115</td>\n",
       "      <td>0.113032</td>\n",
       "      <td>0.416163</td>\n",
       "      <td>-1.361517</td>\n",
       "      <td>-1.0</td>\n",
       "    </tr>\n",
       "    <tr>\n",
       "      <th>4</th>\n",
       "      <td>-0.410409</td>\n",
       "      <td>-0.487722</td>\n",
       "      <td>-1.306878</td>\n",
       "      <td>-0.272599</td>\n",
       "      <td>-0.835284</td>\n",
       "      <td>1.228577</td>\n",
       "      <td>-0.511180</td>\n",
       "      <td>1.077737</td>\n",
       "      <td>-0.752922</td>\n",
       "      <td>-1.106115</td>\n",
       "      <td>0.113032</td>\n",
       "      <td>0.441052</td>\n",
       "      <td>-1.026501</td>\n",
       "      <td>-1.0</td>\n",
       "    </tr>\n",
       "  </tbody>\n",
       "</table>\n",
       "</div>"
      ],
      "text/plain": [
       "         0         1         2         3         4         5         6   \\\n",
       "0 -0.417713  0.284830 -1.287909 -0.272599 -0.144217  0.413672 -0.120013   \n",
       "1 -0.415269 -0.487722 -0.593381 -0.272599 -0.740262  0.194274  0.367166   \n",
       "2 -0.415272 -0.487722 -0.593381 -0.272599 -0.740262  1.282714 -0.265812   \n",
       "3 -0.414680 -0.487722 -1.306878 -0.272599 -0.835284  1.016303 -0.809889   \n",
       "4 -0.410409 -0.487722 -1.306878 -0.272599 -0.835284  1.228577 -0.511180   \n",
       "\n",
       "         7         8         9         10        11        12   13  \n",
       "0  0.140214 -0.982843 -0.666608 -1.459000  0.441052 -1.075562  1.0  \n",
       "1  0.557160 -0.867883 -0.987329 -0.303094  0.441052 -0.492439  0.0  \n",
       "2  0.557160 -0.867883 -0.987329 -0.303094  0.396427 -1.208727  0.0  \n",
       "3  1.077737 -0.752922 -1.106115  0.113032  0.416163 -1.361517 -1.0  \n",
       "4  1.077737 -0.752922 -1.106115  0.113032  0.441052 -1.026501 -1.0  "
      ]
     },
     "execution_count": 56,
     "metadata": {},
     "output_type": "execute_result"
    }
   ],
   "source": [
    "df=pd.DataFrame(X)\n",
    "#some intuition\n",
    "df[13]=df[10]//df[12]  #here we set a column 13 such that df[13]=Boston_data['Medv']//Boston_data['B']\n",
    "X=df.as_matrix()\n",
    "df.head()"
   ]
  },
  {
   "cell_type": "code",
   "execution_count": 57,
   "metadata": {},
   "outputs": [
    {
     "data": {
      "text/html": [
       "<div>\n",
       "<style scoped>\n",
       "    .dataframe tbody tr th:only-of-type {\n",
       "        vertical-align: middle;\n",
       "    }\n",
       "\n",
       "    .dataframe tbody tr th {\n",
       "        vertical-align: top;\n",
       "    }\n",
       "\n",
       "    .dataframe thead th {\n",
       "        text-align: right;\n",
       "    }\n",
       "</style>\n",
       "<table border=\"1\" class=\"dataframe\">\n",
       "  <thead>\n",
       "    <tr style=\"text-align: right;\">\n",
       "      <th></th>\n",
       "      <th>0</th>\n",
       "      <th>1</th>\n",
       "      <th>2</th>\n",
       "      <th>3</th>\n",
       "      <th>4</th>\n",
       "      <th>5</th>\n",
       "      <th>6</th>\n",
       "      <th>7</th>\n",
       "      <th>8</th>\n",
       "      <th>9</th>\n",
       "      <th>10</th>\n",
       "      <th>11</th>\n",
       "      <th>12</th>\n",
       "      <th>13</th>\n",
       "      <th>price</th>\n",
       "    </tr>\n",
       "  </thead>\n",
       "  <tbody>\n",
       "    <tr>\n",
       "      <th>0</th>\n",
       "      <td>-0.425469</td>\n",
       "      <td>-0.470768</td>\n",
       "      <td>-0.954686</td>\n",
       "      <td>-0.231455</td>\n",
       "      <td>-0.919581</td>\n",
       "      <td>0.215100</td>\n",
       "      <td>-0.747410</td>\n",
       "      <td>0.454022</td>\n",
       "      <td>-0.764468</td>\n",
       "      <td>-0.976012</td>\n",
       "      <td>0.005460</td>\n",
       "      <td>0.441889</td>\n",
       "      <td>-0.444819</td>\n",
       "      <td>-0.100764</td>\n",
       "      <td>23.9</td>\n",
       "    </tr>\n",
       "    <tr>\n",
       "      <th>1</th>\n",
       "      <td>-0.426323</td>\n",
       "      <td>2.992576</td>\n",
       "      <td>-1.330157</td>\n",
       "      <td>-0.231455</td>\n",
       "      <td>-1.227311</td>\n",
       "      <td>-0.883652</td>\n",
       "      <td>-1.691588</td>\n",
       "      <td>3.163428</td>\n",
       "      <td>-0.651568</td>\n",
       "      <td>-0.464548</td>\n",
       "      <td>1.616046</td>\n",
       "      <td>0.287498</td>\n",
       "      <td>-0.666438</td>\n",
       "      <td>-0.195005</td>\n",
       "      <td>18.2</td>\n",
       "    </tr>\n",
       "    <tr>\n",
       "      <th>2</th>\n",
       "      <td>-0.385190</td>\n",
       "      <td>-0.470768</td>\n",
       "      <td>-0.705828</td>\n",
       "      <td>4.320494</td>\n",
       "      <td>-0.423795</td>\n",
       "      <td>-0.125423</td>\n",
       "      <td>0.818985</td>\n",
       "      <td>-0.353904</td>\n",
       "      <td>-0.199967</td>\n",
       "      <td>-0.623278</td>\n",
       "      <td>-0.500725</td>\n",
       "      <td>0.423713</td>\n",
       "      <td>1.226505</td>\n",
       "      <td>-0.100764</td>\n",
       "      <td>21.7</td>\n",
       "    </tr>\n",
       "    <tr>\n",
       "      <th>3</th>\n",
       "      <td>-0.249268</td>\n",
       "      <td>-0.470768</td>\n",
       "      <td>-0.423497</td>\n",
       "      <td>-0.231455</td>\n",
       "      <td>-0.158805</td>\n",
       "      <td>-0.228336</td>\n",
       "      <td>1.021567</td>\n",
       "      <td>-0.021755</td>\n",
       "      <td>-0.651568</td>\n",
       "      <td>-0.623278</td>\n",
       "      <td>1.155878</td>\n",
       "      <td>-1.185126</td>\n",
       "      <td>1.068407</td>\n",
       "      <td>-0.006522</td>\n",
       "      <td>13.5</td>\n",
       "    </tr>\n",
       "    <tr>\n",
       "      <th>4</th>\n",
       "      <td>-0.365945</td>\n",
       "      <td>0.395068</td>\n",
       "      <td>-1.030363</td>\n",
       "      <td>-0.231455</td>\n",
       "      <td>0.157472</td>\n",
       "      <td>3.102729</td>\n",
       "      <td>-0.060078</td>\n",
       "      <td>-0.646202</td>\n",
       "      <td>-0.538668</td>\n",
       "      <td>-0.876071</td>\n",
       "      <td>-2.525462</td>\n",
       "      <td>0.306551</td>\n",
       "      <td>-0.752545</td>\n",
       "      <td>0.087719</td>\n",
       "      <td>50.0</td>\n",
       "    </tr>\n",
       "  </tbody>\n",
       "</table>\n",
       "</div>"
      ],
      "text/plain": [
       "          0         1         2         3         4         5         6  \\\n",
       "0 -0.425469 -0.470768 -0.954686 -0.231455 -0.919581  0.215100 -0.747410   \n",
       "1 -0.426323  2.992576 -1.330157 -0.231455 -1.227311 -0.883652 -1.691588   \n",
       "2 -0.385190 -0.470768 -0.705828  4.320494 -0.423795 -0.125423  0.818985   \n",
       "3 -0.249268 -0.470768 -0.423497 -0.231455 -0.158805 -0.228336  1.021567   \n",
       "4 -0.365945  0.395068 -1.030363 -0.231455  0.157472  3.102729 -0.060078   \n",
       "\n",
       "          7         8         9        10        11        12        13  price  \n",
       "0  0.454022 -0.764468 -0.976012  0.005460  0.441889 -0.444819 -0.100764   23.9  \n",
       "1  3.163428 -0.651568 -0.464548  1.616046  0.287498 -0.666438 -0.195005   18.2  \n",
       "2 -0.353904 -0.199967 -0.623278 -0.500725  0.423713  1.226505 -0.100764   21.7  \n",
       "3 -0.021755 -0.651568 -0.623278  1.155878 -1.185126  1.068407 -0.006522   13.5  \n",
       "4 -0.646202 -0.538668 -0.876071 -2.525462  0.306551 -0.752545  0.087719   50.0  "
      ]
     },
     "execution_count": 57,
     "metadata": {},
     "output_type": "execute_result"
    }
   ],
   "source": [
    "#Splitting whole data into train and test\n",
    "from sklearn.model_selection  import train_test_split\n",
    "X_train, X_test, y_train, y_test=train_test_split(X, Y, test_size=0.3, random_state=4)\n",
    "\n",
    "# applying column standardization on train and test data\n",
    "\n",
    "scaler = preprocessing.StandardScaler()\n",
    "X_train = scaler.fit_transform(X_train)\n",
    "X_test=scaler.transform(X_test)\n",
    "\n",
    "df_train=pd.DataFrame(X_train)\n",
    "df_train['price']=y_train\n",
    "df_train.head()"
   ]
  },
  {
   "cell_type": "code",
   "execution_count": 58,
   "metadata": {},
   "outputs": [
    {
     "name": "stdout",
     "output_type": "stream",
     "text": [
      "[[-0.88306127  1.10983464 -0.31906405  1.26577969 -1.48507253  2.22580003\n",
      "  -0.18915912 -3.01961755  1.86039206 -1.37960624 -1.64084106  0.74067193\n",
      "  -3.47527654  0.06518038]]\n",
      "[22.14467274]\n"
     ]
    }
   ],
   "source": [
    "#SGD implementation for linear regression\n",
    "#function having parameter X_train,y_train,no of iteration,learning rate r\n",
    "#intialising no of iteration=100,learning rate =0.01\n",
    "#batch size=20\n",
    "\n",
    "\n",
    "\n",
    "W,B,iteration,lr_rate,k=np.zeros(shape=(1,14)),0,750,0.01,25 #intialise W and B to zero\n",
    "\n",
    "while iteration>=0:\n",
    "    w,b,temp_vectors,temp_intercept=W,B,np.zeros(shape=(1,14)),0\n",
    "    data=df_train.sample(25) #sampling random k=batch size=20 data\n",
    "    x=np.array(data.drop('price',axis=1))\n",
    "    y=np.array(data['price'])\n",
    "    \n",
    "    for i in range(k):\n",
    "        temp_vectors+=(-2)*x[i]*(y[i]-(np.dot(w,x[i])+b))#partial differentiation wrt w dl/dw=1/k(-2x)*(y-wTx-b)\n",
    "        temp_intercept+=(-2)*(y[i]-(np.dot(w,x[i])+b))#partial differentiation wrt b dl/db=1/k(-2)*(y-wTx-b)\n",
    "        \n",
    "    W=(w-lr_rate*(temp_vectors)/k)\n",
    "    B=(b-lr_rate*(temp_intercept)/k)\n",
    "    \n",
    "    iteration-=1\n",
    "    \n",
    "    \n",
    "print(W)\n",
    "print(B)"
   ]
  },
  {
   "cell_type": "code",
   "execution_count": 59,
   "metadata": {},
   "outputs": [],
   "source": [
    "#prediction on x_test\n",
    "#https://www.geeksforgeeks.org/numpy-asscalar-in-python/\n",
    "y_predic_lr=[]\n",
    "for i in range(len(X_test)):\n",
    "    val=np.dot(W,X_test[i])+B  #val= wTx+b\n",
    "    y_predic_lr.append(np.asscalar(val))"
   ]
  },
  {
   "cell_type": "code",
   "execution_count": 60,
   "metadata": {},
   "outputs": [
    {
     "data": {
      "image/png": "[encoded data removed]",
      "text/plain": [
       "<Figure size 432x288 with 1 Axes>"
      ]
     },
     "metadata": {},
     "output_type": "display_data"
    }
   ],
   "source": [
    "#Scatter plot of actual price vs predicted price\n",
    "\n",
    "plt.scatter(y_test,y_predic_lr)\n",
    "plt.xlabel('Actual price')\n",
    "plt.ylabel('Predictd price')\n",
    "plt.title('Actual price vs Predicted price')\n",
    "plt.show()"
   ]
  },
  {
   "cell_type": "code",
   "execution_count": 61,
   "metadata": {},
   "outputs": [
    {
     "name": "stdout",
     "output_type": "stream",
     "text": [
      "mean squared error = 31.239830632733\n"
     ]
    }
   ],
   "source": [
    "MSE_lr=mean_squared_error(y_test,y_predic_lr)\n",
    "print('mean squared error =',MSE_lr)"
   ]
  },
  {
   "cell_type": "code",
   "execution_count": 62,
   "metadata": {},
   "outputs": [
    {
     "data": {
      "image/png": "[encoded data removed]",
      "text/plain": [
       "<Figure size 432x288 with 1 Axes>"
      ]
     },
     "metadata": {},
     "output_type": "display_data"
    }
   ],
   "source": [
    "#SGD regression sklearn implementation\n",
    "\n",
    "#intialising no of iteration=100,eta0=1\n",
    "#taking t=2 and power_t=1 such that for each iteration eta0=eta0/pow(2,1) ,it means half each times\n",
    "\n",
    "model=SGDRegressor(learning_rate='constant',eta0=0.01,penalty=None,n_iter=100,max_iter=100)\n",
    "model.fit(X_train,y_train)\n",
    "y_pred_sgd=model.predict(X_test)\n",
    "\n",
    "#Scatter plot of actual price vs predicted price\n",
    "\n",
    "plt.scatter(y_test,y_pred_sgd)\n",
    "plt.xlabel('Actual price')\n",
    "plt.ylabel('Predictd price')\n",
    "plt.title('Actual price vs Predicted price')\n",
    "plt.show()"
   ]
  },
  {
   "cell_type": "code",
   "execution_count": 63,
   "metadata": {},
   "outputs": [
    {
     "name": "stdout",
     "output_type": "stream",
     "text": [
      "mean squared error = 33.529161913896125\n"
     ]
    }
   ],
   "source": [
    "MSE_sgd=mean_squared_error(y_test,y_pred_sgd)\n",
    "print('mean squared error =',MSE_sgd)"
   ]
  },
  {
   "cell_type": "code",
   "execution_count": 64,
   "metadata": {},
   "outputs": [
    {
     "name": "stdout",
     "output_type": "stream",
     "text": [
      "+----------------------+---------------------------+\n",
      "| Weight vector manual | Weight vector SGD sklearn |\n",
      "+----------------------+---------------------------+\n",
      "| -0.8830612711865389  |    -1.3769808057338275    |\n",
      "|  1.1098346413329043  |     1.2578217208213538    |\n",
      "| -0.31906404677416117 |    0.22615712805089083    |\n",
      "|  1.2657796946846447  |     1.6520436404957028    |\n",
      "| -1.4850725316167526  |    -1.6577036484675904    |\n",
      "|  2.225800033412804   |     2.2316449407595993    |\n",
      "| -0.18915911906972485 |    -0.1754401651340977    |\n",
      "|  -3.019617552643329  |    -3.4309684244613585    |\n",
      "|  1.8603920616553935  |     3.0164500459120447    |\n",
      "| -1.3796062365313495  |    -2.2965400786352883    |\n",
      "| -1.6408410603295547  |    -1.7885105658537956    |\n",
      "|  0.7406719308170109  |     1.2393999240996039    |\n",
      "| -3.4752765420614797  |    -3.9580001664848594    |\n",
      "+----------------------+---------------------------+\n"
     ]
    }
   ],
   "source": [
    "#Comparison between weights obtained from own implementation and weights obtained from sgd implementation\n",
    "from prettytable import PrettyTable    \n",
    "x = PrettyTable()\n",
    "x.field_names=['Weight vector manual','Weight vector SGD sklearn']\n",
    "weight_sgd=model.coef_\n",
    "for i in range(13):\n",
    "    x.add_row([W[0][i],weight_sgd[i]])\n",
    "print(x)"
   ]
  },
  {
   "cell_type": "code",
   "execution_count": 65,
   "metadata": {},
   "outputs": [
    {
     "name": "stdout",
     "output_type": "stream",
     "text": [
      "MSE of manual implementation =  31.239830632733\n",
      "--------------------------------------------------\n",
      "MSE of SGD sklearn implementation =  33.529161913896125\n"
     ]
    }
   ],
   "source": [
    "#comparison between MSE of own implementation and SGD sklearn implementation\n",
    "print('MSE of manual implementation = ',MSE_lr)\n",
    "print('-'*50)\n",
    "print('MSE of SGD sklearn implementation = ',MSE_sgd)"
   ]
  },
  {
   "cell_type": "code",
   "execution_count": null,
   "metadata": {},
   "outputs": [],
   "source": [
    "1. After seeing the distribution of Median value of owner-occupied homes in $1000's and 1000(Bk - 0.63)^2 where Bk is the proportion of blacks by town we created another column such that values are the ratio of both\n",
    "2. Then We splitted whole dataset into train and test and then standardised it\n",
    "3. Then After we then initialised learning rate to constant and equal to 0.01 , no of iteration to 100 and took batch size(k) =20\n",
    "4. After that we have calculated partial derivative with respect to w and b in each iteration of batch size till wk+1 nearly equal to wk.\n",
    "5. Then we predicted y_test and plotted scatter plot between actual y and predicted y and then we calculated mean squared error.\n",
    "6. In our next step we applied SGD regressor in sklearn and compared weight ,mean squared error and scatter plot with own implementation.\n",
    "   And we observed that weights , scatter plots and mean squared error were nearly equal."
   ]
  },
  {
   "cell_type": "code",
   "execution_count": null,
   "metadata": {},
   "outputs": [],
   "source": []
  }
 ],
 "metadata": {
  "colab": {
   "name": "Untitled3.ipynb",
   "provenance": [],
   "version": "0.3.2"
  },
  "kernelspec": {
   "display_name": "Python 3",
   "language": "python",
   "name": "python3"
  },
  "language_info": {
   "codemirror_mode": {
    "name": "ipython",
    "version": 3
   },
   "file_extension": ".py",
   "mimetype": "text/x-python",
   "name": "python",
   "nbconvert_exporter": "python",
   "pygments_lexer": "ipython3",
   "version": "3.6.5"
  }
 },
 "nbformat": 4,
 "nbformat_minor": 1
}
